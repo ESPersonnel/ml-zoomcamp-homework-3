{
  "nbformat": 4,
  "nbformat_minor": 0,
  "metadata": {
    "colab": {
      "provenance": []
    },
    "kernelspec": {
      "name": "python3",
      "display_name": "Python 3"
    },
    "language_info": {
      "name": "python"
    },
    "accelerator": "TPU"
  },
  "cells": [
    {
      "cell_type": "code",
      "execution_count": 1,
      "metadata": {
        "id": "X0YZjHA3lFar"
      },
      "outputs": [],
      "source": [
        "import pandas as pd\n",
        "import numpy as np\n",
        "from sklearn.model_selection import train_test_split\n",
        "from sklearn.metrics import mutual_info_score\n",
        "from sklearn.linear_model import LogisticRegression\n",
        "from sklearn.feature_extraction import DictVectorizer\n"
      ]
    },
    {
      "cell_type": "code",
      "source": [
        "# Read the data\n",
        "df = pd.read_csv('https://raw.githubusercontent.com/alexeygrigorev/datasets/master/housing.csv')\n"
      ],
      "metadata": {
        "id": "KVnVqTCtlNeq"
      },
      "execution_count": 2,
      "outputs": []
    },
    {
      "cell_type": "code",
      "source": [
        "# Data preparation\n",
        "df = df[['latitude', 'longitude', 'housing_median_age', 'total_rooms', 'total_bedrooms', 'population', 'households', 'median_income', 'median_house_value', 'ocean_proximity']]\n",
        "df = df.fillna(0)   \n",
        "df['rooms_per_household'] = df['total_rooms'] / df['households']\n",
        "df['bedrooms_per_room'] = df['total_bedrooms'] / df['total_rooms']\n",
        "df['population_per_household'] = df['population'] / df['households']\n"
      ],
      "metadata": {
        "id": "7DfO1HnglQZk"
      },
      "execution_count": 3,
      "outputs": []
    },
    {
      "cell_type": "code",
      "source": [
        "df.columns = df.columns.str.lower().str.replace(' ', '_')\n",
        "string_columns = list(df.dtypes[df.dtypes == 'object'].index)\n",
        "for col in string_columns:\n",
        "    df[col] = df[col].str.lower().str.replace(' ', '_')\n",
        "\n",
        "df.isnull().sum()\n",
        "\n",
        "df.fillna(0, inplace=True)\n"
      ],
      "metadata": {
        "id": "6PoQ1SxBlTQb"
      },
      "execution_count": 4,
      "outputs": []
    },
    {
      "cell_type": "code",
      "source": [
        "# Split the data\n",
        "df_train_full, df_test = train_test_split(df, test_size=0.2, random_state=42)\n",
        "df_train, df_val = train_test_split(df_train_full, test_size=0.25, random_state=42)\n",
        "\n",
        "len(df_train), len(df_val), len(df_test)\n",
        "len(df), (len(df_train) + len(df_val) + len(df_test))\n",
        "\n",
        "y_train = df_train['median_house_value'].values\n",
        "y_val = df_val['median_house_value'].values\n",
        "y_test = df_test['median_house_value'].values\n",
        "\n",
        "del df_train['median_house_value']\n",
        "del df_val['median_house_value']\n",
        "del df_test['median_house_value']\n"
      ],
      "metadata": {
        "id": "7e3hM6HrlVm6"
      },
      "execution_count": 5,
      "outputs": []
    },
    {
      "cell_type": "code",
      "source": [
        "# Question 1\n",
        "df_train['ocean_proximity'].value_counts().index[0]\n"
      ],
      "metadata": {
        "colab": {
          "base_uri": "https://localhost:8080/",
          "height": 35
        },
        "id": "7xIGO5N0lZOV",
        "outputId": "08f41467-e6b2-44bb-cf8a-5789a58f15f8"
      },
      "execution_count": 6,
      "outputs": [
        {
          "output_type": "execute_result",
          "data": {
            "text/plain": [
              "'<1h_ocean'"
            ],
            "application/vnd.google.colaboratory.intrinsic+json": {
              "type": "string"
            }
          },
          "metadata": {},
          "execution_count": 6
        }
      ]
    },
    {
      "cell_type": "code",
      "source": [
        "## Make median_house_value binary\n",
        "df_train_full['above_average'] = (df_train_full['median_house_value'] > df_train_full['median_house_value'].mean()).astype(int)\n",
        "df_train, df_val = train_test_split(df_train_full, test_size=0.25, random_state=42)\n"
      ],
      "metadata": {
        "id": "lcYstDPwlcdd"
      },
      "execution_count": 7,
      "outputs": []
    },
    {
      "cell_type": "code",
      "source": [
        "# Question 2\n",
        "corr_matrix = df_train.corr()\n",
        "corr_matrix['median_house_value'].sort_values(ascending=False)\n"
      ],
      "metadata": {
        "colab": {
          "base_uri": "https://localhost:8080/"
        },
        "id": "zc51wYuulec-",
        "outputId": "c982a770-65cd-4135-bb58-73a3512c7bcc"
      },
      "execution_count": 8,
      "outputs": [
        {
          "output_type": "execute_result",
          "data": {
            "text/plain": [
              "median_house_value          1.000000\n",
              "above_average               0.804277\n",
              "median_income               0.689202\n",
              "rooms_per_household         0.179062\n",
              "total_rooms                 0.128442\n",
              "housing_median_age          0.106235\n",
              "households                  0.056161\n",
              "total_bedrooms              0.041154\n",
              "population_per_household   -0.030561\n",
              "population                 -0.033653\n",
              "longitude                  -0.044328\n",
              "latitude                   -0.144455\n",
              "bedrooms_per_room          -0.256201\n",
              "Name: median_house_value, dtype: float64"
            ]
          },
          "metadata": {},
          "execution_count": 8
        }
      ]
    },
    {
      "cell_type": "code",
      "source": [
        "# Question 3\n",
        "mi = mutual_info_score(df_train['above_average'], df_train['ocean_proximity'])\n",
        "round(mi, 2)\n"
      ],
      "metadata": {
        "colab": {
          "base_uri": "https://localhost:8080/"
        },
        "id": "o0dUDHG2mC7l",
        "outputId": "d52cd457-2cbc-4edb-974d-618b819c89ad"
      },
      "execution_count": 9,
      "outputs": [
        {
          "output_type": "execute_result",
          "data": {
            "text/plain": [
              "0.57"
            ]
          },
          "metadata": {},
          "execution_count": 9
        }
      ]
    },
    {
      "cell_type": "code",
      "source": [
        "# Question 4\n",
        "train_dict = df_train.to_dict(orient='records')\n",
        "dv = DictVectorizer(sparse=False)\n",
        "X_train = dv.fit_transform(train_dict)\n",
        "\n",
        "val_dict = df_val.to_dict(orient='records')\n",
        "X_val = dv.transform(val_dict)\n",
        "\n",
        "model = LogisticRegression(solver=\"liblinear\", C=1.0, max_iter=1000, random_state=42)\n",
        "model.fit(X_train, y_train)\n",
        "\n",
        "y_pred = model.predict(X_val)\n",
        "accuracy = (y_pred == y_val).mean()\n",
        "round(accuracy, 2)\n"
      ],
      "metadata": {
        "colab": {
          "base_uri": "https://localhost:8080/"
        },
        "id": "aMT7_Wm-mFLI",
        "outputId": "79959c8a-5586-471d-b966-8ee566055503"
      },
      "execution_count": 10,
      "outputs": [
        {
          "output_type": "execute_result",
          "data": {
            "text/plain": [
              "0.06"
            ]
          },
          "metadata": {},
          "execution_count": 10
        }
      ]
    },
    {
      "cell_type": "code",
      "source": [
        "features = ['latitude', 'longitude', 'housing_median_age', 'total_rooms', 'total_bedrooms', 'population', 'households', 'median_income', 'rooms_per_household', 'bedrooms_per_room', 'population_per_household', 'ocean_proximity']\n",
        "scores = []\n",
        "for feature in features:\n",
        "    train_dict = df_train.drop(feature, axis=1).to_dict(orient='records')\n",
        "    dv = DictVectorizer(sparse=False)\n",
        "    X_train = dv.fit_transform(train_dict)\n",
        "\n",
        "    val_dict = df_val.drop(feature, axis=1).to_dict(orient='records')\n",
        "    X_val = dv.transform(val_dict)\n",
        "\n",
        "    model = LogisticRegression(solver=\"liblinear\", C=1.0, max_iter=1000, random_state=42)\n",
        "    model.fit(X_train, y_train)\n",
        "\n",
        "    y_pred = model.predict(X_val)\n",
        "    accuracy = (y_pred == y_val).mean()\n",
        "    scores.append(accuracy)\n",
        "\n",
        "scores = np.array(scores)\n",
        "scores\n",
        "\n",
        "scores - accuracy\n"
      ],
      "metadata": {
        "id": "0XKWVb6fmMMv"
      },
      "execution_count": null,
      "outputs": []
    },
    {
      "cell_type": "code",
      "source": [],
      "metadata": {
        "id": "bE8jZYARpJcL"
      },
      "execution_count": null,
      "outputs": []
    }
  ]
}